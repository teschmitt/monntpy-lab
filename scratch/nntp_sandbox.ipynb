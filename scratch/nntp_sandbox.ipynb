{
 "cells": [
  {
   "cell_type": "code",
   "execution_count": 1,
   "outputs": [
    {
     "name": "stdout",
     "output_type": "stream",
     "text": [
      "Connecting ...\n",
      "Connected!\n"
     ]
    }
   ],
   "source": [
    "import nntplib\n",
    "import logging\n",
    "\n",
    "logger = logging.getLogger()\n",
    "logger.setLevel(logging.DEBUG)\n",
    "\n",
    "print(\"Connecting ...\")\n",
    "s = nntplib.NNTP(host='127.0.0.1', port=1190)\n",
    "print(\"Connected!\")"
   ],
   "metadata": {
    "collapsed": false,
    "pycharm": {
     "name": "#%%\n"
    }
   }
  },
  {
   "cell_type": "code",
   "execution_count": 39,
   "outputs": [],
   "source": [
    "s.set_debuglevel(2)"
   ],
   "metadata": {
    "collapsed": false,
    "pycharm": {
     "name": "#%%\n"
    }
   }
  },
  {
   "cell_type": "code",
   "execution_count": 2,
   "outputs": [
    {
     "data": {
      "text/plain": "\"You're on your own.\""
     },
     "execution_count": 2,
     "metadata": {},
     "output_type": "execute_result"
    }
   ],
   "source": [
    "s.help()[1][0]"
   ],
   "metadata": {
    "collapsed": false,
    "pycharm": {
     "name": "#%%\n"
    }
   }
  },
  {
   "cell_type": "code",
   "execution_count": 3,
   "outputs": [
    {
     "data": {
      "text/plain": "('215 list of newsgroups follows',\n [GroupInfo(group='germany.hessen.darmstadt-dieburg.dieburg', last='47', first='39', flag='y'),\n  GroupInfo(group='germany.hessen.darmstadt-dieburg.rossdorf', last='0', first='0', flag='y'),\n  GroupInfo(group='germany.hessen.darmstadt.darmstadt', last='50', first='44', flag='y')])"
     },
     "execution_count": 3,
     "metadata": {},
     "output_type": "execute_result"
    }
   ],
   "source": [
    "s.list()"
   ],
   "metadata": {
    "collapsed": false,
    "pycharm": {
     "name": "#%%\n"
    }
   }
  },
  {
   "cell_type": "code",
   "execution_count": 57,
   "outputs": [],
   "source": [
    "_, count, first, last, name = s.group(\"germany.hessen.darmstadt-dieburg.dieburg\")\n",
    "resp, overviews = s.over((first, last))"
   ],
   "metadata": {
    "collapsed": false,
    "pycharm": {
     "name": "#%%\n"
    }
   }
  },
  {
   "cell_type": "markdown",
   "source": [
    "In order to test commands that aren't implemented by `nttplib` we'll be manually passing commands into moNNT.py from here on down:"
   ],
   "metadata": {
    "collapsed": false,
    "pycharm": {
     "name": "#%% md\n"
    }
   }
  },
  {
   "cell_type": "code",
   "execution_count": 56,
   "outputs": [
    {
     "name": "stdout",
     "output_type": "stream",
     "text": [
      "200 127.0.0.1 moNNT.py 0.1.0 server ready (posting allowed)\r\n",
      "\n",
      "'211 7 39 47 germany.hessen.darmstadt-dieburg.dieburg group selected'\n",
      "'230 List of new articles follows (multi-line)'\n",
      "205 closing connection - goodbye!\r\n",
      "\n"
     ]
    }
   ],
   "source": [
    "import socket\n",
    "\n",
    "def print_all(sock):\n",
    "    t = sock.recv(1024).decode('utf-8').strip()\n",
    "    while t != \".\" and not t.startswith(\"5\"):\n",
    "        print(f\"'{t}'\")\n",
    "        t = sock.recv(1024).decode('utf-8').strip()\n",
    "\n",
    "host = \"127.0.0.1\"\n",
    "port = 1190\n",
    "with socket.socket(socket.AF_INET, socket.SOCK_STREAM) as s:\n",
    "    s.connect((host, port))\n",
    "    s.sendall(b\"GROUP germany.hessen.darmstadt-dieburg.dieburg\\r\\n\")\n",
    "    print(f\"{s.recv(1024).decode('utf-8')}\")\n",
    "\n",
    "    s.sendall(b\"NEWNEWS *darmstadt 20220519 105550 GMT\\r\\n\")\n",
    "    print_all(s)\n",
    "\n",
    "    s.sendall(b\"QUIT\\r\\n\")\n",
    "    print(f\"{s.recv(1024).decode('utf-8')}\")"
   ],
   "metadata": {
    "collapsed": false,
    "pycharm": {
     "name": "#%%\n"
    }
   }
  },
  {
   "cell_type": "code",
   "execution_count": null,
   "outputs": [],
   "source": [],
   "metadata": {
    "collapsed": false,
    "pycharm": {
     "name": "#%%\n"
    }
   }
  }
 ],
 "metadata": {
  "kernelspec": {
   "display_name": "Python 3",
   "language": "python",
   "name": "python3"
  },
  "language_info": {
   "codemirror_mode": {
    "name": "ipython",
    "version": 2
   },
   "file_extension": ".py",
   "mimetype": "text/x-python",
   "name": "python",
   "nbconvert_exporter": "python",
   "pygments_lexer": "ipython2",
   "version": "2.7.6"
  }
 },
 "nbformat": 4,
 "nbformat_minor": 0
}