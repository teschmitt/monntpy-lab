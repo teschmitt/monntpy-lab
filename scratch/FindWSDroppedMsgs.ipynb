{
 "cells": [
  {
   "cell_type": "code",
   "execution_count": 1,
   "id": "6ac1f1ed-97f7-4d15-875a-bd269dcd7ca9",
   "metadata": {},
   "outputs": [],
   "source": [
    "import re"
   ]
  },
  {
   "cell_type": "code",
   "execution_count": 2,
   "id": "a4bddfbe-1fc7-4972-82f6-b50f6328996e",
   "metadata": {},
   "outputs": [
    {
     "ename": "FileNotFoundError",
     "evalue": "[Errno 2] No such file or directory: '../performance/logs/monntpy-spool-1665052154.log'",
     "output_type": "error",
     "traceback": [
      "\u001b[0;31m---------------------------------------------------------------------------\u001b[0m",
      "\u001b[0;31mFileNotFoundError\u001b[0m                         Traceback (most recent call last)",
      "Cell \u001b[0;32mIn [2], line 1\u001b[0m\n\u001b[0;32m----> 1\u001b[0m \u001b[38;5;28;01mwith\u001b[39;00m \u001b[38;5;28mopen\u001b[39m(\u001b[38;5;124m\"\u001b[39m\u001b[38;5;124m../performance/logs/monntpy-spool-1665052154.log\u001b[39m\u001b[38;5;124m\"\u001b[39m) \u001b[38;5;28;01mas\u001b[39;00m fh:\n\u001b[1;32m      2\u001b[0m     lines \u001b[38;5;241m=\u001b[39m fh\u001b[38;5;241m.\u001b[39mreadlines()\n\u001b[1;32m      4\u001b[0m found_ws \u001b[38;5;241m=\u001b[39m []\n",
      "\u001b[0;31mFileNotFoundError\u001b[0m: [Errno 2] No such file or directory: '../performance/logs/monntpy-spool-1665052154.log'"
     ]
    }
   ],
   "source": [
    "with open(\"../performance/logs/monntpy-spool-1665052154.log\") as fh:\n",
    "    lines = fh.readlines()\n",
    "\n",
    "found_ws = []\n",
    "found_monntpy = []\n",
    "for line in lines:\n",
    "    if \"TEXT '200 Sent bundle\" in line:\n",
    "        found_ws.append(line)\n",
    "    elif \"Removed spool entry\" in line:\n",
    "        found_monntpy.append(line)"
   ]
  },
  {
   "cell_type": "code",
   "execution_count": 63,
   "id": "504d8aa1-68d8-443e-897b-4cf36c8cc124",
   "metadata": {},
   "outputs": [
    {
     "data": {
      "text/plain": [
       "4918"
      ]
     },
     "execution_count": 63,
     "metadata": {},
     "output_type": "execute_result"
    }
   ],
   "source": [
    "len(found_monntpy)"
   ]
  },
  {
   "cell_type": "code",
   "execution_count": 56,
   "id": "a65b794e-f31f-471d-a3c1-37a48ade5fa3",
   "metadata": {},
   "outputs": [],
   "source": [
    "set_monntpy = set(entry.split(sep=\"<\", maxsplit=1)[1].split(sep=\"@\", maxsplit=1)[0][-8:] for entry in found_monntpy)\n",
    "set_ws = set(entry.split(sep=\"...\", maxsplit=1)[1].split(sep=\" with\")[0] for entry in found_ws)"
   ]
  },
  {
   "cell_type": "markdown",
   "id": "be2e0039-6692-4e86-8b05-e5e4b9b7f195",
   "metadata": {},
   "source": [
    "Add missing 5 and sort"
   ]
  },
  {
   "cell_type": "code",
   "execution_count": 57,
   "id": "ec235dab-7d44-446b-b4af-8b22e8a1766c",
   "metadata": {},
   "outputs": [],
   "source": [
    "missing = (list(set_ws - set_monntpy))\n",
    "for i in range(len(missing)):\n",
    "    e = missing[i]\n",
    "    if len(e.split(\"-\")[1]) > 1:\n",
    "        e = f\"5{e}\"\n",
    "        missing[i] = e\n",
    "missing.sort()"
   ]
  },
  {
   "cell_type": "markdown",
   "id": "aa13bd11-39f6-41ae-a333-fdcbb004eb93",
   "metadata": {},
   "source": [
    "First dropped bundle"
   ]
  },
  {
   "cell_type": "code",
   "execution_count": 58,
   "id": "7e048725-d2b9-4087-8aaf-c1c03ed9254c",
   "metadata": {},
   "outputs": [
    {
     "name": "stdout",
     "output_type": "stream",
     "text": [
      "4451\n"
     ]
    }
   ],
   "source": [
    "for i in range(len(found_ws)):\n",
    "    if missing[0][-8:] in found_ws[i]:\n",
    "        print(i)"
   ]
  },
  {
   "cell_type": "code",
   "execution_count": 62,
   "id": "99ebe1bb-bbcc-4396-85e4-06bfbb543177",
   "metadata": {},
   "outputs": [
    {
     "data": {
      "text/plain": [
       "4918"
      ]
     },
     "execution_count": 62,
     "metadata": {},
     "output_type": "execute_result"
    }
   ],
   "source": [
    "len(re.findall(\"websockets.client DEBUG    < BINARY\",\"\".join(lines),re.MULTILINE))"
   ]
  },
  {
   "cell_type": "code",
   "execution_count": 1,
   "id": "f220394d-3b26-4129-b1f0-cdfeae113e53",
   "metadata": {},
   "outputs": [
    {
     "ename": "NameError",
     "evalue": "name 'lines' is not defined",
     "output_type": "error",
     "traceback": [
      "\u001b[0;31m---------------------------------------------------------------------------\u001b[0m",
      "\u001b[0;31mNameError\u001b[0m                                 Traceback (most recent call last)",
      "Cell \u001b[0;32mIn [1], line 2\u001b[0m\n\u001b[1;32m      1\u001b[0m c \u001b[38;5;241m=\u001b[39m \u001b[38;5;241m0\u001b[39m\n\u001b[0;32m----> 2\u001b[0m \u001b[38;5;28;01mfor\u001b[39;00m line \u001b[38;5;129;01min\u001b[39;00m lines:\n\u001b[1;32m      3\u001b[0m     \u001b[38;5;28;01mif\u001b[39;00m \u001b[38;5;124m\"\u001b[39m\u001b[38;5;124m< BINARY\u001b[39m\u001b[38;5;124m\"\u001b[39m \u001b[38;5;129;01min\u001b[39;00m line:\n\u001b[1;32m      4\u001b[0m         c \u001b[38;5;241m+\u001b[39m\u001b[38;5;241m=\u001b[39m \u001b[38;5;241m1\u001b[39m\n",
      "\u001b[0;31mNameError\u001b[0m: name 'lines' is not defined"
     ]
    }
   ],
   "source": [
    "c = 0\n",
    "for line in lines:\n",
    "    if \"< BINARY\" in line:\n",
    "        c += 1\n",
    "c"
   ]
  },
  {
   "cell_type": "code",
   "execution_count": null,
   "id": "b9c80f9f-087f-4064-a87a-9e65a865de4e",
   "metadata": {},
   "outputs": [],
   "source": []
  }
 ],
 "metadata": {
  "kernelspec": {
   "display_name": "Python 3 (ipykernel)",
   "language": "python",
   "name": "python3"
  },
  "language_info": {
   "codemirror_mode": {
    "name": "ipython",
    "version": 3
   },
   "file_extension": ".py",
   "mimetype": "text/x-python",
   "name": "python",
   "nbconvert_exporter": "python",
   "pygments_lexer": "ipython3",
   "version": "3.10.7"
  }
 },
 "nbformat": 4,
 "nbformat_minor": 5
}
