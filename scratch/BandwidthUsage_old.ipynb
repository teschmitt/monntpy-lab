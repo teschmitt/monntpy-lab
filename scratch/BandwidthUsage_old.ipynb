{
 "cells": [
  {
   "cell_type": "markdown",
   "id": "5e57653e-3c71-42ff-b071-c7ab414e31d2",
   "metadata": {},
   "source": [
    "Frage an Lars: welche Größen Vergleiche ich? Beim Bundle ist es recht leicht: Ich schicke eine Nachricht in den dtnd und schaue, was er mir als Bundlegröße in Bytes zurückgibt.\n",
    "\n",
    "Aber wie messe ich die Größe der NNTP-Nachricht? Ist es die Nachricht, die beim POSTEN übertragen wird (also z.B. noch ohne Message-ID, etc.) oder die, die vom Server beim Abruf, z.B. über ARTICLE, gesendet wird? Hier wären die Einsparungen naürlich etwas besser.\n",
    "\n",
    "Wirklich glänzen kann das Bundle, wenn UTF-8 und inb Emojis übertragen werden. Und dieser Usecase ist sehr wahrscheinlich.\n",
    "\n",
    "Ist für den NNTP-Payload die Bytes-Länge des Systems relevant? Oder die Länge in chars?"
   ]
  },
  {
   "cell_type": "code",
   "execution_count": 1,
   "id": "646027fb-46df-41af-bc6a-aca162d062a2",
   "metadata": {},
   "outputs": [],
   "source": [
    "import requests as rq\n",
    "import json\n",
    "import subprocess\n",
    "import cbor2"
   ]
  },
  {
   "cell_type": "code",
   "execution_count": 52,
   "id": "71a9cffe-e790-4fd4-8de9-53fa7debd575",
   "metadata": {},
   "outputs": [],
   "source": [
    "from sys import getsizeof, stderr\n",
    "from itertools import chain\n",
    "from collections import deque\n",
    "try:\n",
    "    from reprlib import repr\n",
    "except ImportError:\n",
    "    pass\n",
    "\n",
    "def total_size(o, handlers={}, verbose=False):\n",
    "    \"\"\" Returns the approximate memory footprint an object and all of its contents.\n",
    "\n",
    "    Automatically finds the contents of the following builtin containers and\n",
    "    their subclasses:  tuple, list, deque, dict, set and frozenset.\n",
    "    To search other containers, add handlers to iterate over their contents:\n",
    "\n",
    "        handlers = {SomeContainerClass: iter,\n",
    "                    OtherContainerClass: OtherContainerClass.get_elements}\n",
    "\n",
    "    \"\"\"\n",
    "    dict_handler = lambda d: chain.from_iterable(d.items())\n",
    "    all_handlers = {tuple: iter,\n",
    "                    list: iter,\n",
    "                    deque: iter,\n",
    "                    dict: dict_handler,\n",
    "                    set: iter,\n",
    "                    frozenset: iter,\n",
    "                   }\n",
    "    all_handlers.update(handlers)     # user handlers take precedence\n",
    "    seen = set()                      # track which object id's have already been seen\n",
    "    default_size = getsizeof(0)       # estimate sizeof object without __sizeof__\n",
    "\n",
    "    def sizeof(o):\n",
    "        if id(o) in seen:       # do not double count the same object\n",
    "            return 0\n",
    "        seen.add(id(o))\n",
    "        s = getsizeof(o, default_size)\n",
    "\n",
    "        if verbose:\n",
    "            print(s, type(o), repr(o), file=stderr)\n",
    "\n",
    "        for typ, handler in all_handlers.items():\n",
    "            if isinstance(o, typ):\n",
    "                s += sum(map(sizeof, handler(o)))\n",
    "                break\n",
    "        return s\n",
    "\n",
    "    return sizeof(o)"
   ]
  },
  {
   "cell_type": "code",
   "execution_count": 53,
   "id": "15af3d88-8f06-44c7-b8d7-ea35ed599413",
   "metadata": {},
   "outputs": [],
   "source": [
    "def dtnsend(data: str, sender: str, receiver: str) -> str:\n",
    "    cmd = ['dtnsend', '--sender', sender, '--receiver', receiver]\n",
    "    piped_data = subprocess.Popen(['echo', data], stdout=subprocess.PIPE)\n",
    "    return subprocess.check_output(cmd, stdin=piped_data.stdout).decode()"
   ]
  },
  {
   "cell_type": "code",
   "execution_count": 54,
   "id": "1db3e6fa-ef67-428a-878a-cef75eff90a9",
   "metadata": {},
   "outputs": [],
   "source": [
    "articles_paths = {\"long\": \"articles/long_text\",\n",
    "                  \"med\": \"articles/med_text\", \n",
    "                  \"short\": \"articles/short_text\"}\n",
    "articles = dict()\n",
    "for k, path_string in articles_paths.items():\n",
    "    with open(path_string, \"r\") as fh:\n",
    "        articles[k] = fh.readlines()"
   ]
  },
  {
   "cell_type": "code",
   "execution_count": 58,
   "id": "e7ac6c80-6fe2-4557-b2d6-9d604ad266c4",
   "metadata": {
    "tags": []
   },
   "outputs": [
    {
     "name": "stdout",
     "output_type": "stream",
     "text": [
      "Size comparison:\n",
      "\n",
      "Protocol | Size (Bytes)\n",
      "--------------------------------\n",
      "NNTP     |    429\n",
      "BP7      |    351\n",
      "--------------------------------\n",
      "Diff     |    -78\n",
      "--------------------------------\n"
     ]
    }
   ],
   "source": [
    "node_id = \"florentin\"\n",
    "\n",
    "email_id = \"t.e.schmitt\"\n",
    "email_domain = \"posteo.de\"\n",
    "email_address = f\"{email_id}@{email_domain}\"\n",
    "newsgroup = \"monntpy.eval\"\n",
    "\n",
    "article_length = \"short\"\n",
    "body = \"\".join(articles[article_length])\n",
    "\n",
    "nntp_payload = f\"\"\"From: {email_address}\n",
    "Newsgroups: {newsgroup}\n",
    "Date: Mon, 22 Aug 2022 13:56:09 UTC\n",
    "Subject: Corrupti commodi consequuntur fugiat corporis atque eaque\n",
    "Message-ID: <714491769820-0@{node_id}-mail-{email_domain}-{email_id}.dtn>\n",
    "\n",
    "{body}\n",
    ".\"\"\"\n",
    "\n",
    "# nntp_payload = \"\".join(article_template + articles[article_length])\n",
    "# print(f\"Length of NNTP payload: {len(article_text)}\")\n",
    "size_nntp = len(nntp_payload)\n",
    "\n",
    "sender = f\"dtn://{node_id}/mail/{email_domain}/{email_id}\"\n",
    "receiver = f\"dtn://{newsgroup}/~news\"\n",
    "\n",
    "send_resp = dtnsend(data=body, sender=sender, receiver=receiver)\n",
    "size_bp7 = int(send_resp.splitlines()[1].split(sep=\":\", maxsplit=1)[1].strip().split(\" \")[1])\n",
    "\n",
    "print(f\"\"\"Size comparison:\n",
    "\n",
    "Protocol | Size (Bytes)\n",
    "--------------------------------\n",
    "NNTP     | {size_nntp:6}\n",
    "BP7      | {size_bp7:6}\n",
    "--------------------------------\n",
    "Diff     | {(size_bp7 - size_nntp):6}\n",
    "--------------------------------\"\"\")"
   ]
  },
  {
   "cell_type": "code",
   "execution_count": 63,
   "id": "61d8eba3-b703-4305-816b-2ce6da7b040a",
   "metadata": {},
   "outputs": [
    {
     "data": {
      "text/plain": [
       "['dtn://florentin/mail/posteo.de/t.e.schmitt-715871801040-0',\n",
       " 'dtn://florentin/mail/posteo.de/t.e.schmitt-715871144614-0',\n",
       " 'dtn://florentin/mail/posteo.de/t.e.schmitt-715873957869-0',\n",
       " 'dtn://florentin/mail/posteo.de/t.e.schmitt-715871730282-0',\n",
       " 'dtn://florentin/mail/posteo.de/t.e.schmitt-715873856992-0',\n",
       " 'dtn://florentin/mail/posteo.de/t.e.schmitt-715873853723-0',\n",
       " 'dtn://florentin/mail/posteo.de/t.e.schmitt-715871807300-0',\n",
       " 'dtn://florentin/mail/posteo.de/t.e.schmitt-715868440828-0']"
      ]
     },
     "execution_count": 63,
     "metadata": {},
     "output_type": "execute_result"
    }
   ],
   "source": [
    "url = \"http://localhost:3000\"\n",
    "bid_list_resp = rq.get(f\"{url}/status/bundles\")\n",
    "bid_list = json.loads(bid_list_resp.content)\n",
    "# bundle_from_dtnd = rq.get(f\"{url}/download?{bid}\")\n",
    "bid_list"
   ]
  },
  {
   "cell_type": "code",
   "execution_count": 47,
   "id": "4698726c-7ca0-4bf8-824d-ae170d4c070e",
   "metadata": {
    "collapsed": true,
    "jupyter": {
     "outputs_hidden": true
    },
    "tags": []
   },
   "outputs": [
    {
     "name": "stdout",
     "output_type": "stream",
     "text": [
      "{'src': 'dtn://remotenode01/mail/stud.tu-darmstadt.de/thomas.schmitt2', 'dst': 'dtn://monntpy.dev/~news', 'delivery_notification': False, 'lifetime': 86400000, 'data': 'Arrrgh!'}\n"
     ]
    }
   ],
   "source": [
    "data = \"Arrrgh!\"\n",
    "dst = \"dtn://eval.core.monntpy/~news\"\n",
    "payload: dict = {\n",
    "        \"source\": \"dtn://florentin/mail/posteo.de/t.e.schmitt\",\n",
    "        \"destination\": dst,\n",
    "        \"data\": data,\n",
    "    }\n",
    "bundle_ready = pack_bundle(**payload)"
   ]
  },
  {
   "cell_type": "code",
   "execution_count": 39,
   "id": "7d1ada41-16b4-4426-b932-322eb82e47c2",
   "metadata": {
    "tags": []
   },
   "outputs": [],
   "source": [
    "def pack_bundle(destination: str, data: str, source: str = None,):\n",
    "    bundle_dict: dict = {\n",
    "        \"src\": source,\n",
    "        \"dst\": destination,\n",
    "        \"delivery_notification\": False,\n",
    "        \"lifetime\": 24 * 3600 * 1000,\n",
    "        \"data\": data,\n",
    "    }\n",
    "    print(bundle_dict)\n",
    "\n",
    "    return cbor2.dumps(bundle_dict)"
   ]
  },
  {
   "cell_type": "code",
   "execution_count": null,
   "id": "7511eead-f289-4957-947f-38c85d45c445",
   "metadata": {},
   "outputs": [],
   "source": []
  }
 ],
 "metadata": {
  "kernelspec": {
   "display_name": "Python 3 (ipykernel)",
   "language": "python",
   "name": "python3"
  },
  "language_info": {
   "codemirror_mode": {
    "name": "ipython",
    "version": 3
   },
   "file_extension": ".py",
   "mimetype": "text/x-python",
   "name": "python",
   "nbconvert_exporter": "python",
   "pygments_lexer": "ipython3",
   "version": "3.10.5"
  }
 },
 "nbformat": 4,
 "nbformat_minor": 5
}
