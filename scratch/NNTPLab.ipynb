{
 "cells": [
  {
   "cell_type": "code",
   "execution_count": 8,
   "id": "b8ddd69d-e18e-4139-9cb2-6fa5fcc607b1",
   "metadata": {},
   "outputs": [],
   "source": [
    "import nntplib\n",
    "import logging"
   ]
  },
  {
   "cell_type": "code",
   "execution_count": 26,
   "id": "09780c8a-fe76-47b5-b2f4-890220cb2412",
   "metadata": {},
   "outputs": [],
   "source": [
    "s = nntplib.NNTP('news.eternal-september.org', user=\"tschmitt\", password=\"YC3UqkzyqSJRpCl3\")\n",
    "s.set_debuglevel(logging.DEBUG)"
   ]
  },
  {
   "cell_type": "code",
   "execution_count": 29,
   "id": "884501fe-d97f-421b-8af2-a6fa78f10eae",
   "metadata": {},
   "outputs": [
    {
     "name": "stdout",
     "output_type": "stream",
     "text": [
      "*welcome* '200 reader01.eternal-september.org InterNetNews NNRP server INN 2.8.0 (20220715 snapshot) ready (posting ok)'\n"
     ]
    },
    {
     "data": {
      "text/plain": [
       "'200 reader01.eternal-september.org InterNetNews NNRP server INN 2.8.0 (20220715 snapshot) ready (posting ok)'"
      ]
     },
     "execution_count": 29,
     "metadata": {},
     "output_type": "execute_result"
    }
   ],
   "source": [
    "s.getwelcome()"
   ]
  },
  {
   "cell_type": "code",
   "execution_count": 30,
   "id": "d1a50a1f-6301-4b72-9c24-b5f4d0c37c77",
   "metadata": {},
   "outputs": [
    {
     "name": "stdout",
     "output_type": "stream",
     "text": [
      "*cmd* 'CAPABILITIES'\n",
      "*put* b'CAPABILITIES\\r\\n'\n",
      "*get* b'101 Capability list:\\r\\n'\n",
      "*resp* b'101 Capability list:'\n",
      "*get* b'VERSION 2\\r\\n'\n",
      "*get* b'IMPLEMENTATION INN 2.8.0 (20220715 snapshot)\\r\\n'\n",
      "*get* b'COMPRESS DEFLATE\\r\\n'\n",
      "*get* b'HDR\\r\\n'\n",
      "*get* b'LIST ACTIVE ACTIVE.TIMES COUNTS DISTRIB.PATS DISTRIBUTIONS HEADERS MODERATORS MOTD NEWSGROUPS OVERVIEW.FMT SUBSCRIPTIONS\\r\\n'\n",
      "*get* b'OVER\\r\\n'\n",
      "*get* b'POST\\r\\n'\n",
      "*get* b'READER\\r\\n'\n",
      "*get* b'SASL GSS-SPNEGO GSSAPI SCRAM-SHA-1 SCRAM-SHA-256 GS2-KRB5 GS2-IAKERB DIGEST-MD5 NTLM CRAM-MD5 PLAIN LOGIN\\r\\n'\n",
      "*get* b'XPAT\\r\\n'\n",
      "*get* b'.\\r\\n'\n"
     ]
    },
    {
     "data": {
      "text/plain": [
       "('101 Capability list:',\n",
       " {'VERSION': ['2'],\n",
       "  'IMPLEMENTATION': ['INN', '2.8.0', '(20220715', 'snapshot)'],\n",
       "  'COMPRESS': ['DEFLATE'],\n",
       "  'HDR': [],\n",
       "  'LIST': ['ACTIVE',\n",
       "   'ACTIVE.TIMES',\n",
       "   'COUNTS',\n",
       "   'DISTRIB.PATS',\n",
       "   'DISTRIBUTIONS',\n",
       "   'HEADERS',\n",
       "   'MODERATORS',\n",
       "   'MOTD',\n",
       "   'NEWSGROUPS',\n",
       "   'OVERVIEW.FMT',\n",
       "   'SUBSCRIPTIONS'],\n",
       "  'OVER': [],\n",
       "  'POST': [],\n",
       "  'READER': [],\n",
       "  'SASL': ['GSS-SPNEGO',\n",
       "   'GSSAPI',\n",
       "   'SCRAM-SHA-1',\n",
       "   'SCRAM-SHA-256',\n",
       "   'GS2-KRB5',\n",
       "   'GS2-IAKERB',\n",
       "   'DIGEST-MD5',\n",
       "   'NTLM',\n",
       "   'CRAM-MD5',\n",
       "   'PLAIN',\n",
       "   'LOGIN'],\n",
       "  'XPAT': []})"
      ]
     },
     "execution_count": 30,
     "metadata": {},
     "output_type": "execute_result"
    }
   ],
   "source": [
    "s.capabilities()"
   ]
  },
  {
   "cell_type": "code",
   "execution_count": 31,
   "id": "b02a96d3-1c09-4793-9173-725033da82a7",
   "metadata": {},
   "outputs": [],
   "source": [
    "t = nntplib.NNTP(host='192.168.178.230', port=1190)\n",
    "t.set_debuglevel(logging.DEBUG)"
   ]
  },
  {
   "cell_type": "code",
   "execution_count": 32,
   "id": "187167c1-ec28-4a4b-8ce7-05132a277f8c",
   "metadata": {},
   "outputs": [
    {
     "name": "stdout",
     "output_type": "stream",
     "text": [
      "*welcome* '200 0.0.0.0 moNNT.py 0.1.0 server ready (posting allowed)'\n"
     ]
    },
    {
     "data": {
      "text/plain": [
       "'200 0.0.0.0 moNNT.py 0.1.0 server ready (posting allowed)'"
      ]
     },
     "execution_count": 32,
     "metadata": {},
     "output_type": "execute_result"
    }
   ],
   "source": [
    "t.getwelcome()"
   ]
  },
  {
   "cell_type": "code",
   "execution_count": 33,
   "id": "2aa6dc5d-4ea2-442d-b99b-67b7de2f0d49",
   "metadata": {},
   "outputs": [
    {
     "name": "stdout",
     "output_type": "stream",
     "text": [
      "*cmd* 'CAPABILITIES'\n",
      "*put* b'CAPABILITIES\\r\\n'\n",
      "*get* b'101 Capability list:\\r\\n'\n",
      "*resp* b'101 Capability list:'\n",
      "*get* b'VERSION 2\\r\\n'\n",
      "*get* b'IMPLEMENTATION moNNT.py Async Usenet Server v0.1.0\\r\\n'\n",
      "*get* b'LIST ACTIVE NEWSGROUPS OVERVIEW.FMT SUBSCRIPTIONS\\r\\n'\n",
      "*get* b'OVER MSGID\\r\\n'\n",
      "*get* b'HDR\\r\\n'\n",
      "*get* b'READER\\r\\n'\n",
      "*get* b'.\\r\\n'\n"
     ]
    },
    {
     "data": {
      "text/plain": [
       "('101 Capability list:',\n",
       " {'VERSION': ['2'],\n",
       "  'IMPLEMENTATION': ['moNNT.py', 'Async', 'Usenet', 'Server', 'v0.1.0'],\n",
       "  'LIST': ['ACTIVE', 'NEWSGROUPS', 'OVERVIEW.FMT', 'SUBSCRIPTIONS'],\n",
       "  'OVER': ['MSGID'],\n",
       "  'HDR': [],\n",
       "  'READER': []})"
      ]
     },
     "execution_count": 33,
     "metadata": {},
     "output_type": "execute_result"
    }
   ],
   "source": [
    "t.capabilities()"
   ]
  },
  {
   "cell_type": "code",
   "execution_count": 24,
   "id": "3330783f-d4c8-45a3-91ad-a0c776eed38b",
   "metadata": {},
   "outputs": [
    {
     "name": "stdout",
     "output_type": "stream",
     "text": [
      "*cmd* 'HEAD 12'\n",
      "*put* b'HEAD 12\\r\\n'\n",
      "*get* b'222 12 <718471197198-0@gateway-mail-monntpy.net-gateway.dtn> article retrieved - body follows\\r\\n'\n",
      "*resp* b'222 12 <718471197198-0@gateway-mail-monntpy.net-gateway.dtn> article retrieved - body follows'\n",
      "*get* b'.\\r\\n'\n"
     ]
    },
    {
     "data": {
      "text/plain": [
       "('222 12 <718471197198-0@gateway-mail-monntpy.net-gateway.dtn> article retrieved - body follows',\n",
       " ArticleInfo(number=12, message_id='<718471197198-0@gateway-mail-monntpy.net-gateway.dtn>', lines=[]))"
      ]
     },
     "execution_count": 24,
     "metadata": {},
     "output_type": "execute_result"
    }
   ],
   "source": [
    "t.head(12)"
   ]
  },
  {
   "cell_type": "markdown",
   "id": "4bce1c2d-2f31-46c9-bf78-d6a935e371c0",
   "metadata": {},
   "source": [
    "Eternal September response:\n",
    "```\n",
    "*get* b'rec.autos.makers.saturn 0000000967 0000000239 y\\r\\n'\n",
    "*get* b'rec.autos.makers.vw.aircooled 0000005509 0000001168 y\\r\\n'\n",
    "*get* b'rec.autos.makers.vw.watercooled 0000002135 0000000398 y\\r\\n'\n",
    "*get* b'rec.autos.marketplace 0000000239 0000000187 y\\r\\n'\n",
    "*get* b'rec.autos.misc 0000003331 0000000379 y\\r\\n'\n",
    "*get* b'rec.autos.rod-n-custom 0000000235 0000000008 y\\r\\n'\n",
    "*get* b'rec.autos.rotary 0000000144 0000000013 y\\r\\n'\n",
    "*get* b'rec.autos.simulators 0000002405 0000000513 y\\r\\n'\n",
    "```\n",
    "\n",
    "moNNT.py response:\n",
    "```\n",
    "*get* b'monntpy.dev 6 5 y\\r\\n'\n",
    "*get* b'monntpy.offtopic 8 7 y\\r\\n'\n",
    "*get* b'monntpy.users.jlu-giessen 0 0 y\\r\\n'\n",
    "*get* b'monntpy.users.tu-darmstadt 4 1 y\\r\\n'\n",
    "*get* b'monntpy.users.uni-frankfurt 0 0 y\\r\\n'\n",
    "```"
   ]
  },
  {
   "cell_type": "code",
   "execution_count": null,
   "id": "9dc399ef-c3d9-4c7e-bac4-ecd04faf56e4",
   "metadata": {},
   "outputs": [],
   "source": []
  }
 ],
 "metadata": {
  "kernelspec": {
   "display_name": "Python 3 (ipykernel)",
   "language": "python",
   "name": "python3"
  },
  "language_info": {
   "codemirror_mode": {
    "name": "ipython",
    "version": 3
   },
   "file_extension": ".py",
   "mimetype": "text/x-python",
   "name": "python",
   "nbconvert_exporter": "python",
   "pygments_lexer": "ipython3",
   "version": "3.10.7"
  }
 },
 "nbformat": 4,
 "nbformat_minor": 5
}
