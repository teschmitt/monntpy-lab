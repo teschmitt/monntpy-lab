{
 "cells": [
  {
   "cell_type": "code",
   "execution_count": 1,
   "metadata": {
    "collapsed": false,
    "jupyter": {
     "outputs_hidden": false
    },
    "pycharm": {
     "name": "#%%\n"
    }
   },
   "outputs": [],
   "source": [
    "from fnmatch import fnmatch\n",
    "import json\n",
    "import logging\n",
    "import sys\n",
    "from uuid import uuid4\n",
    "from datetime import datetime, timezone\n",
    "\n",
    "from tortoise import Tortoise\n",
    "from tortoise.contrib.pydantic import pydantic_model_creator\n",
    "from models.newsgroup import Newsgroup\n",
    "from models.message import Message\n",
    "\n",
    "await Tortoise.init(db_url=\"sqlite://db.sqlite3\", modules={\"models\": [\"__main__\"]})\n",
    "\n",
    "fmt = logging.Formatter(\n",
    "    fmt=\"%(asctime)s - %(name)s:%(lineno)d - %(levelname)s - %(message)s\",\n",
    "    datefmt=\"%Y-%m-%d %H:%M:%S\",\n",
    ")\n",
    "sh = logging.StreamHandler(sys.stdout)\n",
    "sh.setLevel(logging.DEBUG)\n",
    "sh.setFormatter(fmt)\n",
    "\n",
    "# will print debug sql\n",
    "logger_db_client = logging.getLogger(\"db_client\")\n",
    "logger_db_client.setLevel(logging.DEBUG)\n",
    "logger_db_client.addHandler(sh)\n",
    "\n",
    "logger_tortoise = logging.getLogger(\"tortoise\")\n",
    "logger_tortoise.setLevel(logging.DEBUG)\n",
    "logger_tortoise.addHandler(sh)"
   ]
  },
  {
   "cell_type": "code",
   "execution_count": 2,
   "metadata": {
    "collapsed": false,
    "jupyter": {
     "outputs_hidden": false
    },
    "pycharm": {
     "name": "#%%\n"
    }
   },
   "outputs": [],
   "source": [
    "Msg_Pyd = pydantic_model_creator(Message)\n",
    "Nws_Pyd = pydantic_model_creator(Newsgroup)"
   ]
  },
  {
   "cell_type": "code",
   "execution_count": 12,
   "metadata": {
    "collapsed": false,
    "jupyter": {
     "outputs_hidden": false
    },
    "pycharm": {
     "name": "#%%\n"
    }
   },
   "outputs": [
    {
     "name": "stdout",
     "output_type": "stream",
     "text": [
      "2022-05-31 10:48:06 - tortoise.db_client:135 - DEBUG - SELECT \"reply_to\",\"path\",\"from\",\"id\",\"message_id\",\"newsgroup_id\",\"references\",\"user_agent\",\"body\",\"x_ref\",\"created_at\",\"organization\",\"subject\" FROM \"message\" WHERE \"created_at\">='0099-12-31 23:34:45+00:00': None\n",
      "2022-05-31 10:48:06 - tortoise.db_client:135 - DEBUG - SELECT \"status\",\"updated_at\",\"default_subscribe\",\"id\",\"name\",\"created_at\",\"description\" FROM \"newsgroup\" WHERE \"id\" IN (2,2,2,2,2,1,1,2,2,1,1,1) ORDER BY \"name\" ASC: None\n"
     ]
    }
   ],
   "source": [
    "gte_date = datetime(year=99, month=12, day=31, tzinfo=timezone.utc, hour=23, minute=34 ,second=45)\n",
    "ms = await Message.filter(created_at__gte=gte_date).prefetch_related(\"newsgroup\")  # .values(\"message_id\", \"newsgroup__name\")\n",
    "m = ms[1]"
   ]
  },
  {
   "cell_type": "code",
   "execution_count": 13,
   "metadata": {
    "collapsed": false,
    "jupyter": {
     "outputs_hidden": false
    },
    "pycharm": {
     "name": "#%%\n"
    }
   },
   "outputs": [],
   "source": [
    "m_pyd = await Msg_Pyd.from_tortoise_orm(m)"
   ]
  },
  {
   "cell_type": "code",
   "execution_count": 14,
   "metadata": {
    "collapsed": false,
    "jupyter": {
     "outputs_hidden": false
    },
    "pycharm": {
     "name": "#%%\n"
    }
   },
   "outputs": [
    {
     "data": {
      "text/plain": [
       "{'id': 40,\n",
       " 'from_': 'Thomas Schmitt <t.e.schmitt@posteo.de>',\n",
       " 'created_at': datetime.datetime(2022, 5, 16, 20, 23, 5, 62607, tzinfo=<UTC>),\n",
       " 'subject': 'Re: Quick search',\n",
       " 'message_id': '<369469a0-a12d-427d-9f05-d34a899df408@planetzorg.net>',\n",
       " 'path': '!planetzorg.net',\n",
       " 'references': '<73c5d02e-9b45-43c7-b71d-c6939048768f@planetzorg.net>',\n",
       " 'reply_to': '',\n",
       " 'organization': '',\n",
       " 'x_ref': None,\n",
       " 'user_agent': 'Pan/0.149 (Bellevue; 4c157ba git@gitlab.gnome.org:GNOME/pan.git)',\n",
       " 'body': 'Ich weiß nicht, ich denke eher nicht.\\n\\n> Eine wunderbare Heiterkeit hat meine ganze Seele eingenommen, gleich den\\n> süßen Frühlingsmorgen, die ich mit ganzem Herzen genieße. Ich bin allein\\n> und freue mich meines Lebens in dieser Gegend, die für solche Seelen\\n> geschaffen ist wie die meine. Ich bin so glücklich, mein Bester, so ganz\\n> in dem Gefühle von ruhigem Dasein versunken, daß meine Kunst darunter\\n> leidet. Ich könnte jetzt nicht zeichnen, nicht einen Strich, und bin nie\\n> ein größerer Maler gewesen als in diesen Augenblicken.\\n\\n\\nAuch das finde ich nicht so wichtig.',\n",
       " 'newsgroup_id': 2}"
      ]
     },
     "execution_count": 14,
     "metadata": {},
     "output_type": "execute_result"
    }
   ],
   "source": [
    "m_pyd.dict()"
   ]
  },
  {
   "cell_type": "code",
   "execution_count": 24,
   "metadata": {
    "collapsed": false,
    "jupyter": {
     "outputs_hidden": false
    },
    "pycharm": {
     "name": "#%%\n"
    }
   },
   "outputs": [
    {
     "name": "stdout",
     "output_type": "stream",
     "text": [
      "2022-05-31 10:52:10 - tortoise.db_client:135 - DEBUG - SELECT \"message\".\"id\" \"0\",\"message\".\"from\" \"1\",\"message__newsgroup\".\"name\" \"2\" FROM \"message\" LEFT OUTER JOIN \"newsgroup\" \"message__newsgroup\" ON \"message__newsgroup\".\"id\"=\"message\".\"newsgroup_id\" WHERE \"message\".\"created_at\">='0099-12-31 23:34:45+00:00': None\n"
     ]
    },
    {
     "data": {
      "text/plain": [
       "[(39,\n",
       "  'Thomas Schmitt <t.e.schmitt@posteo.de>',\n",
       "  'germany.hessen.darmstadt-dieburg.dieburg'),\n",
       " (40,\n",
       "  'Thomas Schmitt <t.e.schmitt@posteo.de>',\n",
       "  'germany.hessen.darmstadt-dieburg.dieburg'),\n",
       " (41,\n",
       "  'Thomas Schmitt <t.e.schmitt@posteo.de>',\n",
       "  'germany.hessen.darmstadt-dieburg.dieburg'),\n",
       " (42,\n",
       "  'Thomas Schmitt <t.e.schmitt@posteo.de>',\n",
       "  'germany.hessen.darmstadt-dieburg.dieburg'),\n",
       " (43,\n",
       "  'Thomas Schmitt <t.e.schmitt@posteo.de>',\n",
       "  'germany.hessen.darmstadt-dieburg.dieburg'),\n",
       " (44,\n",
       "  'Thomas Schmitt <t.e.schmitt@posteo.de>',\n",
       "  'germany.hessen.darmstadt.darmstadt'),\n",
       " (45,\n",
       "  'Thomas Schmitt <t.e.schmitt@posteo.de>',\n",
       "  'germany.hessen.darmstadt.darmstadt'),\n",
       " (46,\n",
       "  'Thomas Schmitt <t.e.schmitt@posteo.de>',\n",
       "  'germany.hessen.darmstadt-dieburg.dieburg'),\n",
       " (47,\n",
       "  'Thomas Schmitt <t.e.schmitt@posteo.de>',\n",
       "  'germany.hessen.darmstadt-dieburg.dieburg'),\n",
       " (48,\n",
       "  'Thomas Schmitt <t.e.schmitt@posteo.de>',\n",
       "  'germany.hessen.darmstadt.darmstadt'),\n",
       " (49,\n",
       "  'Thomas Schmitt <t.e.schmitt@posteo.de>',\n",
       "  'germany.hessen.darmstadt.darmstadt'),\n",
       " (50,\n",
       "  'Thomas Schmitt <t.e.schmitt@posteo.de>',\n",
       "  'germany.hessen.darmstadt.darmstadt')]"
      ]
     },
     "execution_count": 24,
     "metadata": {},
     "output_type": "execute_result"
    }
   ],
   "source": [
    "await Message.filter(created_at__gte=gte_date).values_list(\"id\", \"from_\", \"newsgroup__name\")"
   ]
  },
  {
   "cell_type": "code",
   "execution_count": 22,
   "metadata": {
    "collapsed": false,
    "jupyter": {
     "outputs_hidden": false
    },
    "pycharm": {
     "name": "#%%\n"
    }
   },
   "outputs": [
    {
     "name": "stdout",
     "output_type": "stream",
     "text": [
      "2022-05-31 10:51:40 - tortoise.db_client:144 - DEBUG - SELECT \"message__newsgroup\".\"name\" \"newsgroup__name\" FROM \"message\" LEFT OUTER JOIN \"newsgroup\" \"message__newsgroup\" ON \"message__newsgroup\".\"id\"=\"message\".\"newsgroup_id\" WHERE \"message\".\"created_at\">='0099-12-31 23:34:45+00:00': None\n"
     ]
    },
    {
     "data": {
      "text/plain": [
       "[{'newsgroup__name': 'germany.hessen.darmstadt-dieburg.dieburg'},\n",
       " {'newsgroup__name': 'germany.hessen.darmstadt-dieburg.dieburg'},\n",
       " {'newsgroup__name': 'germany.hessen.darmstadt-dieburg.dieburg'},\n",
       " {'newsgroup__name': 'germany.hessen.darmstadt-dieburg.dieburg'},\n",
       " {'newsgroup__name': 'germany.hessen.darmstadt-dieburg.dieburg'},\n",
       " {'newsgroup__name': 'germany.hessen.darmstadt.darmstadt'},\n",
       " {'newsgroup__name': 'germany.hessen.darmstadt.darmstadt'},\n",
       " {'newsgroup__name': 'germany.hessen.darmstadt-dieburg.dieburg'},\n",
       " {'newsgroup__name': 'germany.hessen.darmstadt-dieburg.dieburg'},\n",
       " {'newsgroup__name': 'germany.hessen.darmstadt.darmstadt'},\n",
       " {'newsgroup__name': 'germany.hessen.darmstadt.darmstadt'},\n",
       " {'newsgroup__name': 'germany.hessen.darmstadt.darmstadt'}]"
      ]
     },
     "execution_count": 22,
     "metadata": {},
     "output_type": "execute_result"
    }
   ],
   "source": [
    "await Message.filter(created_at__gte=gte_date).values(\"newsgroup__name\")"
   ]
  },
  {
   "cell_type": "code",
   "execution_count": 25,
   "metadata": {
    "collapsed": false,
    "jupyter": {
     "outputs_hidden": false
    },
    "pycharm": {
     "name": "#%%\n"
    }
   },
   "outputs": [
    {
     "name": "stdout",
     "output_type": "stream",
     "text": [
      "2022-05-31 10:41:41 - tortoise.db_client:135 - DEBUG - SELECT \"message_id\",\"organization\",\"body\",\"subject\",\"newsgroup_id\",\"from\",\"user_agent\",\"x_ref\",\"references\",\"created_at\",\"reply_to\",\"id\",\"path\" FROM \"message\" WHERE \"id\"=40 LIMIT 2: None\n"
     ]
    }
   ],
   "source": [
    "m40 = await Message.get(id=40)"
   ]
  },
  {
   "cell_type": "code",
   "execution_count": 22,
   "metadata": {
    "collapsed": false,
    "jupyter": {
     "outputs_hidden": false
    },
    "pycharm": {
     "name": "#%%\n"
    }
   },
   "outputs": [
    {
     "name": "stdout",
     "output_type": "stream",
     "text": [
      "2022-05-31 10:41:26 - tortoise.db_client:135 - DEBUG - SELECT \"updated_at\",\"default_subscribe\",\"status\",\"created_at\",\"description\",\"id\",\"name\" FROM \"newsgroup\" WHERE \"id\"=2 ORDER BY \"name\" ASC LIMIT 1: None\n"
     ]
    },
    {
     "data": {
      "text/plain": [
       "Newsgroup <germany.hessen.darmstadt-dieburg.dieburg>"
      ]
     },
     "execution_count": 22,
     "metadata": {},
     "output_type": "execute_result"
    }
   ],
   "source": [
    "await m40.newsgroup"
   ]
  },
  {
   "cell_type": "code",
   "execution_count": null,
   "metadata": {
    "collapsed": false,
    "jupyter": {
     "outputs_hidden": false
    },
    "pycharm": {
     "name": "#%%\n"
    }
   },
   "outputs": [],
   "source": []
  },
  {
   "cell_type": "code",
   "execution_count": 56,
   "metadata": {
    "collapsed": false,
    "jupyter": {
     "outputs_hidden": false
    },
    "pycharm": {
     "name": "#%%\n"
    }
   },
   "outputs": [
    {
     "name": "stdout",
     "output_type": "stream",
     "text": [
      "2022-05-18 12:05:04 - tortoise.db_client:135 - DEBUG - SELECT \"status\",\"id\",\"name\",\"description\",\"created_at\",\"default_subscribe\",\"updated_at\" FROM \"newsgroup\" WHERE \"name\"='germany.hessen.darmstadt-dieburg.dieburg' ORDER BY \"name\" ASC LIMIT 2: None\n"
     ]
    }
   ],
   "source": [
    "from tortoise.functions import Count, Max, Min\n",
    "from tortoise.queryset import ValuesQuery\n",
    "\n",
    "group_name = \"germany.hessen.darmstadt-dieburg.dieburg\"\n",
    "current_group = await Newsgroup.get_or_none(name=group_name)"
   ]
  },
  {
   "cell_type": "code",
   "execution_count": 70,
   "metadata": {
    "collapsed": false,
    "jupyter": {
     "outputs_hidden": false
    },
    "pycharm": {
     "name": "#%%\n"
    }
   },
   "outputs": [
    {
     "name": "stdout",
     "output_type": "stream",
     "text": [
      "2022-05-18 12:12:14 - tortoise.db_client:135 - DEBUG - SELECT \"id\",\"body\",\"path\",\"references\",\"from\",\"newsgroup_id\",\"user_agent\",\"message_id\",\"organization\",\"created_at\",\"x_ref\",\"subject\",\"reply_to\" FROM \"message\" WHERE \"newsgroup_id\"=2 ORDER BY \"id\" ASC LIMIT 1: None\n",
      "2022-05-18 12:12:14 - tortoise.db_client:135 - DEBUG - SELECT \"status\",\"id\",\"name\",\"description\",\"created_at\",\"default_subscribe\",\"updated_at\" FROM \"newsgroup\" WHERE \"id\" IN (2) ORDER BY \"name\" ASC: None\n"
     ]
    }
   ],
   "source": [
    "m = await Message.filter(newsgroup=current_group).order_by(\"id\").first().prefetch_related(\"newsgroup\")"
   ]
  },
  {
   "cell_type": "code",
   "execution_count": 68,
   "metadata": {
    "collapsed": false,
    "jupyter": {
     "outputs_hidden": false
    },
    "pycharm": {
     "name": "#%%\n"
    }
   },
   "outputs": [
    {
     "name": "stdout",
     "output_type": "stream",
     "text": [
      "2022-05-18 12:07:26 - tortoise.db_client:135 - DEBUG - SELECT \"status\",\"id\",\"name\",\"description\",\"created_at\",\"default_subscribe\",\"updated_at\" FROM \"newsgroup\" WHERE \"id\" IN (2) ORDER BY \"name\" ASC: None\n"
     ]
    },
    {
     "data": {
      "text/plain": [
       "'germany.hessen.darmstadt-dieburg.dieburg'"
      ]
     },
     "execution_count": 68,
     "metadata": {},
     "output_type": "execute_result"
    }
   ],
   "source": [
    "await m.fetch_related(\"newsgroup\")\n",
    "m.newsgroup.name"
   ]
  },
  {
   "cell_type": "code",
   "execution_count": 30,
   "metadata": {
    "collapsed": false,
    "jupyter": {
     "outputs_hidden": false
    },
    "pycharm": {
     "name": "#%%\n"
    }
   },
   "outputs": [
    {
     "data": {
      "text/plain": [
       "\"Eine wunderbare Heiterkeit hat meine ganze Seele eingenommen, gleich den\\nsüßen Frühlingsmorgen, die ich mit ganzem Herzen genieße. Ich bin allein\\nund freue mich meines Lebens in dieser Gegend, die für solche Seelen\\ngeschaffen ist wie die meine. Ich bin so glücklich, mein Bester, so ganz\\nin dem Gefühle von ruhigem Dasein versunken, daß meine Kunst darunter\\nleidet. Ich könnte jetzt nicht zeichnen, nicht einen Strich, und bin nie\\nein größerer Maler gewesen als in diesen Augenblicken.\\n\\nWenn das liebe Tal um mich dampft, und die hohe Sonne an der Oberfläche\\nder undurchdringlichen Finsternis meines Waldes ruht, und nur einzelne\\nStrahlen sich in das innere Heiligtum stehlen, ich dann im hohen Grase am\\nfallenden Bache liege, und näher an der Erde tausend mannigfaltige\\nGräschen mir merkwürdig werden; wenn ich das Wimmeln der kleinen Welt\\nzwischen Halmen, die unzähligen, unergründlichen Gestalten der Würmchen,\\nder Mückchen näher an meinem Herzen fühle, und fühle die Gegenwart des\\nAllmächtigen, der uns nach seinem Bilde schuf, das Wehen des Alliebenden,\\nder uns in ewiger Wonne schwebend trägt und erhält; mein Freund! Wenn's\\ndann um meine Augen dämmert, und die Welt um mich her und der Himmel ganz\\nin meiner Seele ruhn wie die Gestalt einer Geliebten - dann sehne ich mich\\noft und denke : ach könntest du das wieder ausdrücken, könntest du dem\\nPapiere das einhauchen, was so voll, so warm in dir lebt, daß es würde der\\nSpiegel deiner Seele, wie deine Seele ist der Spiegel des unendlichen\\nGottes!\\n\\n- mein Freund - aber ich gehe darüber zugrunde, ich erliege unter der\\nGewalt der Herrlichkeit dieser Erscheinungen. Eine wunderbare Heiterkeit\\nhat meine ganze Seele eingenommen, gleich den süßen Frühlingsmorgen, die\\nich mit ganzem Herzen genieße. Ich bin allein und freue mich meines Lebens\\nin dieser Gegend, die für solche Seelen geschaffen ist wie die meine. Ich\\nbin so glücklich, mein Bester, so ganz in dem Gefühle von ruhigem Dasein\\nversunken, daß meine Kunst darunter leidet. Ich könnte jetzt nicht\\nzeichnen, nicht einen Strich, und bin nie ein größerer Maler gewesen als\\nin diesen Augenblicken.\\n\\nWenn das liebe Tal um mich dampft, und die hohe Sonne an der Oberfläche\\nder undurchdringlichen Finsternis meines Waldes ruht, und nur einzelne\\nStrahlen sich in das innere Heiligtum stehlen, ich dann im hohen Grase am\\nfallenden Bache liege, und näher an der Erde tausend mannigfaltige\\nGräschen mir merkwürdig werden; wenn ich das Wimmeln der kleinen Welt\\nzwischen Halmen, die unzähligen, unergründlichen Gestalten der Würmchen,\\nder Mückchen näher an meinem Herzen fühle, und fühle die Gegenwart des\\nAllmächtigen, der uns nach seinem Bilde schuf, das Wehen des Alliebenden,\\nder uns in ewiger Wonne schwebend trägt und erhält; mein Freund! Wenn's\\ndann um meine Augen dämmert, und die Welt um mich her und der Himmel ganz\\nin meiner Seele ruhn wie die Gestalt einer Geliebten - dann sehne ich mich\\noft und denke : ach könntest du das wieder ausdrücken, könntest du dem\\nPapiere das einhauchen, was so voll, so warm in dir lebt, daß es würde der\\nSpiegel deiner Seele, wie deine Seele ist der Spiegel des unendlichen\\nGottes! - mein Freund - aber ich gehe darüber zugrunde, ich erliege unter\\nder Gewalt der Herrlichkeit dieser Erscheinungen. Eine wunderbare\\nHeiterkeit hat meine ganze Seele eingenommen, gleich den süßen\\nFrühlingsmorgen, die ich mit ganzem Herzen genieße. Ich bin allein und\\nfreue mich meines Lebens in dieser Gegend, die für solche Seelen\\ngeschaffen ist wie die meine. Ich bin so glücklich, mein Bester, so ganz\\nin dem Gefühle von ruhigem Dasein versunken, daß meine Kunst darunter\\nleidet. Ich könnte jetzt nicht zeichnen, nicht einen Strich, und bin nie\\nein größerer Maler\""
      ]
     },
     "execution_count": 30,
     "metadata": {},
     "output_type": "execute_result"
    }
   ],
   "source": [
    "m.body"
   ]
  },
  {
   "cell_type": "code",
   "execution_count": 3,
   "metadata": {
    "collapsed": false,
    "jupyter": {
     "outputs_hidden": false
    },
    "pycharm": {
     "name": "#%%\n"
    }
   },
   "outputs": [
    {
     "name": "stdout",
     "output_type": "stream",
     "text": [
      "2022-05-16 09:35:32 - tortoise.db_client:70 - DEBUG - Created connection <Connection(Thread-5, started 139931281245760)> with params: filename=db.sqlite3 journal_mode=WAL journal_size_limit=16384 foreign_keys=ON\n",
      "2022-05-16 09:35:32 - tortoise.db_client:135 - DEBUG - SELECT \"message\".\"id\",\"message\".\"subject\",\"message\".\"parent_id_id\",\"message\".\"created_at\",\"message\".\"references\",\"message\".\"sender\",\"message\".\"thread_id\",\"message\".\"body\",\"message\".\"message_id\",\"message\".\"updated_at\",\"message\".\"newsgroup_id\" FROM \"message\" LEFT OUTER JOIN \"newsgroup\" \"message__newsgroup\" ON \"message__newsgroup\".\"id\"=\"message\".\"newsgroup_id\" WHERE \"message__newsgroup\".\"name\"='schmiti.home.cars': None\n"
     ]
    }
   ],
   "source": [
    "msgs = await Message.filter(newsgroup__name=group_name)"
   ]
  },
  {
   "cell_type": "code",
   "execution_count": 4,
   "metadata": {
    "collapsed": false,
    "jupyter": {
     "outputs_hidden": false
    },
    "pycharm": {
     "name": "#%%\n"
    }
   },
   "outputs": [
    {
     "name": "stdout",
     "output_type": "stream",
     "text": [
      "count: 10, low: 37, high: 49\n"
     ]
    }
   ],
   "source": [
    "print(f\"count: {len(msgs)}, low: {min(msg.id for msg in msgs)}, high: {max(msg.id for msg in msgs)}\")"
   ]
  },
  {
   "cell_type": "code",
   "execution_count": 6,
   "metadata": {
    "collapsed": false,
    "jupyter": {
     "outputs_hidden": false
    },
    "pycharm": {
     "name": "#%%\n"
    }
   },
   "outputs": [
    {
     "data": {
      "text/plain": [
       "<Message: 40>"
      ]
     },
     "execution_count": 6,
     "metadata": {},
     "output_type": "execute_result"
    }
   ],
   "source": [
    "cmsg = msgs[2]\n",
    "cmsg"
   ]
  },
  {
   "cell_type": "code",
   "execution_count": 14,
   "metadata": {
    "collapsed": false,
    "jupyter": {
     "outputs_hidden": false
    },
    "pycharm": {
     "name": "#%%\n"
    }
   },
   "outputs": [
    {
     "name": "stdout",
     "output_type": "stream",
     "text": [
      "2022-05-16 09:49:15 - tortoise.db_client:135 - DEBUG - SELECT \"message\".\"id\",\"message\".\"subject\",\"message\".\"parent_id_id\",\"message\".\"created_at\",\"message\".\"references\",\"message\".\"sender\",\"message\".\"thread_id\",\"message\".\"body\",\"message\".\"message_id\",\"message\".\"updated_at\",\"message\".\"newsgroup_id\" FROM \"message\" LEFT OUTER JOIN \"newsgroup\" \"message__newsgroup\" ON \"message__newsgroup\".\"id\"=\"message\".\"newsgroup_id\" WHERE \"message__newsgroup\".\"name\"='schmiti.home.cars' AND \"message\".\"id\">38 ORDER BY \"message\".\"id\" ASC LIMIT 1: None\n"
     ]
    },
    {
     "data": {
      "text/plain": [
       "<Message: 40>"
      ]
     },
     "execution_count": 14,
     "metadata": {},
     "output_type": "execute_result"
    }
   ],
   "source": [
    "await Message.filter(newsgroup__name=group_name, id__gt=38).order_by(\"id\").first()"
   ]
  },
  {
   "cell_type": "code",
   "execution_count": 4,
   "metadata": {
    "collapsed": false,
    "jupyter": {
     "outputs_hidden": false
    },
    "pycharm": {
     "name": "#%%\n"
    }
   },
   "outputs": [
    {
     "name": "stdout",
     "output_type": "stream",
     "text": [
      "2022-05-16 21:56:01 - tortoise.db_client:135 - DEBUG - SELECT \"created_at\",\"description\",\"name\",\"default_subscribe\",\"status\",\"updated_at\",\"id\" FROM \"newsgroup\" ORDER BY \"name\" ASC: None\n"
     ]
    },
    {
     "ename": "AttributeError",
     "evalue": "'str' object has no attribute '_saved_in_db'",
     "output_type": "error",
     "traceback": [
      "\u001b[0;31m---------------------------------------------------------------------------\u001b[0m",
      "\u001b[0;31mAttributeError\u001b[0m                            Traceback (most recent call last)",
      "Input \u001b[0;32mIn [4]\u001b[0m, in \u001b[0;36m<cell line: 2>\u001b[0;34m()\u001b[0m\n\u001b[1;32m      1\u001b[0m groups \u001b[38;5;241m=\u001b[39m \u001b[38;5;28;01mawait\u001b[39;00m Newsgroup\u001b[38;5;241m.\u001b[39mall()\n\u001b[1;32m      2\u001b[0m \u001b[38;5;28;01mfor\u001b[39;00m i \u001b[38;5;129;01min\u001b[39;00m \u001b[38;5;28mrange\u001b[39m(\u001b[38;5;241m36\u001b[39m):\n\u001b[0;32m----> 3\u001b[0m     \u001b[38;5;28;01mawait\u001b[39;00m Message\u001b[38;5;241m.\u001b[39mcreate(\n\u001b[1;32m      4\u001b[0m         newsgroup\u001b[38;5;241m=\u001b[39mgroups[i\u001b[38;5;241m%\u001b[39m\u001b[38;5;28mlen\u001b[39m(groups)]\u001b[38;5;241m.\u001b[39mname,\n\u001b[1;32m      5\u001b[0m         from_\u001b[38;5;241m=\u001b[39m\u001b[38;5;124m\"\u001b[39m\u001b[38;5;124mt.e.schmitt@gmail.com\u001b[39m\u001b[38;5;124m\"\u001b[39m,\n\u001b[1;32m      6\u001b[0m         message_id\u001b[38;5;241m=\u001b[39m\u001b[38;5;124mf\u001b[39m\u001b[38;5;124m\"\u001b[39m\u001b[38;5;124m<\u001b[39m\u001b[38;5;132;01m{\u001b[39;00muuid4()\u001b[38;5;132;01m}\u001b[39;00m\u001b[38;5;124m@whatever.com>\u001b[39m\u001b[38;5;124m\"\u001b[39m,\n\u001b[1;32m      7\u001b[0m         subject\u001b[38;5;241m=\u001b[39m\u001b[38;5;124m\"\u001b[39m\u001b[38;5;124mNeed help painting the walls\u001b[39m\u001b[38;5;124m\"\u001b[39m,\n\u001b[1;32m      8\u001b[0m         body\u001b[38;5;241m=\u001b[39m\u001b[38;5;124m\"\u001b[39m\u001b[38;5;124mAround May sometime would be great.\u001b[39m\u001b[38;5;124m\"\u001b[39m,\n\u001b[1;32m      9\u001b[0m         created_at\u001b[38;5;241m=\u001b[39mdatetime\u001b[38;5;241m.\u001b[39mutcnow(),\n\u001b[1;32m     10\u001b[0m         path\u001b[38;5;241m=\u001b[39m\u001b[38;5;124m\"\u001b[39m\u001b[38;5;124mA\u001b[39m\u001b[38;5;124m\"\u001b[39m\n\u001b[1;32m     11\u001b[0m     )\n",
      "File \u001b[0;32m~/.cache/pypoetry/virtualenvs/monnt.py-0cXOC7gD-py3.10/lib/python3.10/site-packages/tortoise/models.py:1119\u001b[0m, in \u001b[0;36mModel.create\u001b[0;34m(cls, **kwargs)\u001b[0m\n\u001b[1;32m   1101\u001b[0m \u001b[38;5;129m@classmethod\u001b[39m\n\u001b[1;32m   1102\u001b[0m \u001b[38;5;28;01masync\u001b[39;00m \u001b[38;5;28;01mdef\u001b[39;00m \u001b[38;5;21mcreate\u001b[39m(\u001b[38;5;28mcls\u001b[39m: Type[MODEL], \u001b[38;5;241m*\u001b[39m\u001b[38;5;241m*\u001b[39mkwargs: Any) \u001b[38;5;241m-\u001b[39m\u001b[38;5;241m>\u001b[39m MODEL:\n\u001b[1;32m   1103\u001b[0m     \u001b[38;5;124;03m\"\"\"\u001b[39;00m\n\u001b[1;32m   1104\u001b[0m \u001b[38;5;124;03m    Create a record in the DB and returns the object.\u001b[39;00m\n\u001b[1;32m   1105\u001b[0m \n\u001b[0;32m   (...)\u001b[0m\n\u001b[1;32m   1117\u001b[0m \u001b[38;5;124;03m    :param kwargs: Model parameters.\u001b[39;00m\n\u001b[1;32m   1118\u001b[0m \u001b[38;5;124;03m    \"\"\"\u001b[39;00m\n\u001b[0;32m-> 1119\u001b[0m     instance \u001b[38;5;241m=\u001b[39m \u001b[38;5;28;43mcls\u001b[39;49m\u001b[43m(\u001b[49m\u001b[38;5;241;43m*\u001b[39;49m\u001b[38;5;241;43m*\u001b[39;49m\u001b[43mkwargs\u001b[49m\u001b[43m)\u001b[49m\n\u001b[1;32m   1120\u001b[0m     instance\u001b[38;5;241m.\u001b[39m_saved_in_db \u001b[38;5;241m=\u001b[39m \u001b[38;5;28;01mFalse\u001b[39;00m\n\u001b[1;32m   1121\u001b[0m     db \u001b[38;5;241m=\u001b[39m kwargs\u001b[38;5;241m.\u001b[39mget(\u001b[38;5;124m\"\u001b[39m\u001b[38;5;124musing_db\u001b[39m\u001b[38;5;124m\"\u001b[39m) \u001b[38;5;129;01mor\u001b[39;00m \u001b[38;5;28mcls\u001b[39m\u001b[38;5;241m.\u001b[39m_choose_db(\u001b[38;5;28;01mTrue\u001b[39;00m)\n",
      "File \u001b[0;32m~/.cache/pypoetry/virtualenvs/monnt.py-0cXOC7gD-py3.10/lib/python3.10/site-packages/tortoise/models.py:669\u001b[0m, in \u001b[0;36mModel.__init__\u001b[0;34m(self, **kwargs)\u001b[0m\n\u001b[1;32m    666\u001b[0m \u001b[38;5;28mself\u001b[39m\u001b[38;5;241m.\u001b[39m_custom_generated_pk \u001b[38;5;241m=\u001b[39m \u001b[38;5;28;01mFalse\u001b[39;00m\n\u001b[1;32m    668\u001b[0m \u001b[38;5;66;03m# Assign defaults for missing fields\u001b[39;00m\n\u001b[0;32m--> 669\u001b[0m \u001b[38;5;28;01mfor\u001b[39;00m key \u001b[38;5;129;01min\u001b[39;00m meta\u001b[38;5;241m.\u001b[39mfields\u001b[38;5;241m.\u001b[39mdifference(\u001b[38;5;28;43mself\u001b[39;49m\u001b[38;5;241;43m.\u001b[39;49m\u001b[43m_set_kwargs\u001b[49m\u001b[43m(\u001b[49m\u001b[43mkwargs\u001b[49m\u001b[43m)\u001b[49m):\n\u001b[1;32m    670\u001b[0m     field_object \u001b[38;5;241m=\u001b[39m meta\u001b[38;5;241m.\u001b[39mfields_map[key]\n\u001b[1;32m    671\u001b[0m     \u001b[38;5;28;01mif\u001b[39;00m callable(field_object\u001b[38;5;241m.\u001b[39mdefault):\n",
      "File \u001b[0;32m~/.cache/pypoetry/virtualenvs/monnt.py-0cXOC7gD-py3.10/lib/python3.10/site-packages/tortoise/models.py:684\u001b[0m, in \u001b[0;36mModel._set_kwargs\u001b[0;34m(self, kwargs)\u001b[0m\n\u001b[1;32m    682\u001b[0m \u001b[38;5;28;01mfor\u001b[39;00m key, value \u001b[38;5;129;01min\u001b[39;00m kwargs\u001b[38;5;241m.\u001b[39mitems():\n\u001b[1;32m    683\u001b[0m     \u001b[38;5;28;01mif\u001b[39;00m key \u001b[38;5;129;01min\u001b[39;00m meta\u001b[38;5;241m.\u001b[39mfk_fields \u001b[38;5;129;01mor\u001b[39;00m key \u001b[38;5;129;01min\u001b[39;00m meta\u001b[38;5;241m.\u001b[39mo2o_fields:\n\u001b[0;32m--> 684\u001b[0m         \u001b[38;5;28;01mif\u001b[39;00m value \u001b[38;5;129;01mand\u001b[39;00m \u001b[38;5;129;01mnot\u001b[39;00m \u001b[43mvalue\u001b[49m\u001b[38;5;241;43m.\u001b[39;49m\u001b[43m_saved_in_db\u001b[49m:\n\u001b[1;32m    685\u001b[0m             \u001b[38;5;28;01mraise\u001b[39;00m OperationalError(\n\u001b[1;32m    686\u001b[0m                 \u001b[38;5;124mf\u001b[39m\u001b[38;5;124m\"\u001b[39m\u001b[38;5;124mYou should first call .save() on \u001b[39m\u001b[38;5;132;01m{\u001b[39;00mvalue\u001b[38;5;132;01m}\u001b[39;00m\u001b[38;5;124m before referring to it\u001b[39m\u001b[38;5;124m\"\u001b[39m\n\u001b[1;32m    687\u001b[0m             )\n\u001b[1;32m    688\u001b[0m         \u001b[38;5;28msetattr\u001b[39m(\u001b[38;5;28mself\u001b[39m, key, value)\n",
      "\u001b[0;31mAttributeError\u001b[0m: 'str' object has no attribute '_saved_in_db'"
     ]
    }
   ],
   "source": [
    "groups = await Newsgroup.all()\n",
    "for i in range(36):\n",
    "    await Message.create(\n",
    "        newsgroup=groups[i%len(groups)],\n",
    "        from_=\"t.e.schmitt@gmail.com\",\n",
    "        message_id=f\"<{uuid4()}@whatever.com>\",\n",
    "        subject=\"Need help painting the walls\",\n",
    "        body=\"Around May sometime would be great.\",\n",
    "        created_at=datetime.utcnow(),\n",
    "        path=\"A\"\n",
    "    )"
   ]
  },
  {
   "cell_type": "code",
   "execution_count": 5,
   "metadata": {
    "collapsed": false,
    "jupyter": {
     "outputs_hidden": false
    },
    "pycharm": {
     "name": "#%%\n"
    }
   },
   "outputs": [
    {
     "name": "stdout",
     "output_type": "stream",
     "text": [
      "2022-05-16 21:56:48 - tortoise.db_client:135 - DEBUG - SELECT \"created_at\",\"description\",\"name\",\"default_subscribe\",\"status\",\"updated_at\",\"id\" FROM \"newsgroup\" ORDER BY \"name\" ASC: None\n",
      "Newsgroup <germany.hessen.darmstadt-dieburg.dieburg>\n",
      "Newsgroup <germany.hessen.darmstadt.darmstadt>\n"
     ]
    }
   ],
   "source": [
    "async for g in Newsgroup.all():\n",
    "    print(g.__repr__())"
   ]
  },
  {
   "cell_type": "code",
   "execution_count": null,
   "metadata": {
    "collapsed": false,
    "jupyter": {
     "outputs_hidden": false
    },
    "pycharm": {
     "name": "#%%\n"
    }
   },
   "outputs": [],
   "source": [
    "from tortoise.functions import Count, Max, Min\n",
    "\n",
    "group_stats = (\n",
    "        await Message.annotate(count=Count(\"id\"), max=Max(\"id\"), min=Min(\"id\"))\n",
    "        .group_by(\"newsgroup_id\")\n",
    "        .values(name=\"newsgroup__name\", count=\"count\", min=\"min\", max=\"max\")\n",
    "    )\n",
    "result_stats = [f\"{g['name']} {g['max']} {g['min']}\" for g in group_stats]"
   ]
  },
  {
   "cell_type": "code",
   "execution_count": 12,
   "metadata": {
    "collapsed": false,
    "jupyter": {
     "outputs_hidden": false
    },
    "pycharm": {
     "name": "#%%\n"
    }
   },
   "outputs": [
    {
     "name": "stdout",
     "output_type": "stream",
     "text": [
      "2022-04-28 17:06:05 - tortoise.db_client:135 - DEBUG - SELECT \"description\",\"id\",\"status\",\"default_subscribe\",\"created_at\",\"name\",\"updated_at\" FROM \"newsgroup\" WHERE \"name\"='seekandsell.hessen.darmstadt.darmstadt' ORDER BY \"name\" ASC LIMIT 2: None\n"
     ]
    }
   ],
   "source": [
    "seeksell = await Newsgroup.get_or_none(name=\"seekandsell.hessen.darmstadt.darmstadt\")"
   ]
  },
  {
   "cell_type": "code",
   "execution_count": 13,
   "metadata": {
    "collapsed": false,
    "jupyter": {
     "outputs_hidden": false
    },
    "pycharm": {
     "name": "#%%\n"
    }
   },
   "outputs": [
    {
     "name": "stdout",
     "output_type": "stream",
     "text": [
      "2022-04-28 17:06:05 - tortoise.db_client:135 - DEBUG - SELECT \"id\",\"thread_id\",\"subject\",\"references\",\"body\",\"created_at\",\"message_id\",\"sender\",\"newsgroup_id\",\"updated_at\",\"parent_id_id\" FROM \"message\" WHERE \"id\"=35 AND \"newsgroup_id\"=5 LIMIT 2: None\n"
     ]
    },
    {
     "data": {
      "text/plain": [
       "<Message: 35>"
      ]
     },
     "execution_count": 13,
     "metadata": {},
     "output_type": "execute_result"
    }
   ],
   "source": [
    "await Message.get_or_none(id=35, newsgroup=seeksell)"
   ]
  }
 ],
 "metadata": {
  "kernelspec": {
   "display_name": "Python 3 (ipykernel)",
   "language": "python",
   "name": "python3"
  },
  "language_info": {
   "codemirror_mode": {
    "name": "ipython",
    "version": 3
   },
   "file_extension": ".py",
   "mimetype": "text/x-python",
   "name": "python",
   "nbconvert_exporter": "python",
   "pygments_lexer": "ipython3",
   "version": "3.10.6"
  }
 },
 "nbformat": 4,
 "nbformat_minor": 4
}
