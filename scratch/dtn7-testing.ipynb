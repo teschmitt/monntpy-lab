{
 "cells": [
  {
   "cell_type": "code",
   "execution_count": 1,
   "id": "fdd3e19f-7e2b-45fc-b7c4-c64a575668c9",
   "metadata": {
    "pycharm": {
     "name": "#%%\n"
    }
   },
   "outputs": [],
   "source": [
    "import requests as rq\n",
    "import json\n",
    "import cbor2 as cbor"
   ]
  },
  {
   "cell_type": "code",
   "execution_count": 2,
   "id": "dd3ce6ce-f0bf-4834-b857-1df297947b8b",
   "metadata": {
    "pycharm": {
     "name": "#%%\n"
    }
   },
   "outputs": [],
   "source": [
    "url = \"http://localhost:3000\""
   ]
  },
  {
   "cell_type": "code",
   "execution_count": 3,
   "id": "0b9ed760-018f-4eeb-962b-90238e5c623d",
   "metadata": {
    "pycharm": {
     "name": "#%%\n"
    },
    "tags": []
   },
   "outputs": [
    {
     "data": {
      "text/plain": [
       "['dtn://florentin/mail/posteo.de/t.e.schmitt-717328651177-0',\n",
       " 'dtn://florentin/mail/posteo.de/t.e.schmitt-717329554776-0',\n",
       " 'dtn://florentin/mail/posteo.de/t.e.schmitt-717329333204-0',\n",
       " 'dtn://florentin/mail/posteo.de/t.e.schmitt-717329397442-0']"
      ]
     },
     "execution_count": 3,
     "metadata": {},
     "output_type": "execute_result"
    }
   ],
   "source": [
    "r = rq.get(f\"{url}/status/bundles\")\n",
    "json.loads(r.content)"
   ]
  },
  {
   "cell_type": "code",
   "execution_count": 4,
   "id": "d44d99ef-412f-494a-a6cd-1121b82ed817",
   "metadata": {
    "pycharm": {
     "name": "#%%\n"
    },
    "tags": []
   },
   "outputs": [
    {
     "name": "stdout",
     "output_type": "stream",
     "text": [
      "Status: 200, Content: b'[\\n  \"dtn://florentin/mail/posteo.de/t.e.schmitt dtn://monntpy.dev/~news 717328651177 199\",\\n  \"dtn://florentin/mail/posteo.de/t.e.schmitt dtn://monntpy.dev/~news 717329554776 375\",\\n  \"dtn://florentin/mail/posteo.de/t.e.schmitt dtn://monntpy.dev/~news 717329333204 191\",\\n  \"dtn://florentin/mail/posteo.de/t.e.schmitt dtn://monntpy.dev/~news 717329397442 238\"\\n]'\n"
     ]
    }
   ],
   "source": [
    "r = rq.get(f\"{url}/status/bundles/verbose\")\n",
    "print(f\"Status: {r.status_code}, Content: {r.content}\")"
   ]
  },
  {
   "cell_type": "code",
   "execution_count": 6,
   "id": "d4577c44-ec83-4068-a493-8e0923d562a4",
   "metadata": {
    "pycharm": {
     "name": "#%%\n"
    },
    "tags": []
   },
   "outputs": [
    {
     "data": {
      "text/plain": [
       "['dtn://florentin/mail/posteo.de/t.e.schmitt-717328651177-0',\n",
       " 'dtn://florentin/mail/posteo.de/t.e.schmitt-717329554776-0',\n",
       " 'dtn://florentin/mail/posteo.de/t.e.schmitt-717329333204-0',\n",
       " 'dtn://florentin/mail/posteo.de/t.e.schmitt-717329397442-0']"
      ]
     },
     "execution_count": 6,
     "metadata": {},
     "output_type": "execute_result"
    }
   ],
   "source": [
    "r = rq.get(f\"{url}/status/bundles/filtered?addr=posteo\")\n",
    "bids = json.loads(r.content)\n",
    "bids"
   ]
  },
  {
   "cell_type": "code",
   "execution_count": 7,
   "id": "c1310ab9-bd26-4dc0-9888-697bbcc79082",
   "metadata": {
    "pycharm": {
     "name": "#%%\n"
    }
   },
   "outputs": [],
   "source": [
    "r = rq.get(f\"{url}/download?{bids[-1]}\")"
   ]
  },
  {
   "cell_type": "code",
   "execution_count": 15,
   "id": "39327563-3676-4876-8720-416c2b5d0aa0",
   "metadata": {
    "pycharm": {
     "name": "#%%\n"
    }
   },
   "outputs": [
    {
     "data": {
      "text/plain": [
       "[[7,\n",
       "  4,\n",
       "  0,\n",
       "  [1, '//monntpy.dev/~news'],\n",
       "  [1, '//florentin/mail/posteo.de/t.e.schmitt'],\n",
       "  [1, '//florentin/mail/posteo.de/t.e.schmitt'],\n",
       "  [717329397442, 0],\n",
       "  1000],\n",
       " [1,\n",
       "  1,\n",
       "  0,\n",
       "  0,\n",
       "  b'\\xa4gsubjectj3463461246jreferences`jcompressed\\xf5dbodyX6x\\x9cU\\x8bA\\n\\x000\\x0c\\xc2\\xded\\xd5\\xd9\\xff\\xbfl\\x1d\\xf4\\xb2\\x83\\t\\x04\\x04\\x9dS\\x84\\x1cPAq\\x1c\\xa2\\xb2m\\xfb\\xb741/\\x91V\\xe2\\x88\\xe5\\xf3\\xa8Q\\xf7\\x05\\xd3m\\x11\\x1e']]"
      ]
     },
     "execution_count": 15,
     "metadata": {},
     "output_type": "execute_result"
    }
   ],
   "source": [
    "cbor.loads(r.content)"
   ]
  },
  {
   "cell_type": "code",
   "execution_count": 21,
   "id": "8321ea56-bf0b-4a2c-a035-5873f1c0da4f",
   "metadata": {},
   "outputs": [
    {
     "data": {
      "text/plain": [
       "0.4799236111111111"
      ]
     },
     "execution_count": 21,
     "metadata": {},
     "output_type": "execute_result"
    }
   ],
   "source": [
    "cts = rq.get(f\"{url}/cts\").content\n",
    "(json.loads(cts)[0] - cbor.loads(r.content)[0][6][0]) / 1000 / 3600"
   ]
  },
  {
   "cell_type": "code",
   "execution_count": 9,
   "id": "c1ffb189-ded6-4a59-ab40-7c8b9c6bdf37",
   "metadata": {},
   "outputs": [
    {
     "data": {
      "text/plain": [
       "0"
      ]
     },
     "execution_count": 9,
     "metadata": {},
     "output_type": "execute_result"
    }
   ],
   "source": [
    "cbor.loads(r.content)[0][6][0] - int(bids[-1].rsplit(sep=\"-\", maxsplit=2)[-2])"
   ]
  },
  {
   "cell_type": "code",
   "execution_count": 1,
   "id": "b14947cd-ab16-417b-bcf9-a7c9bbe1452a",
   "metadata": {
    "pycharm": {
     "name": "#%%\n"
    }
   },
   "outputs": [],
   "source": [
    "from py_dtn7 import DTNWSClient"
   ]
  },
  {
   "cell_type": "code",
   "execution_count": 2,
   "id": "b667b3cd-7b58-4d6d-ab77-94b6bb5f9cfb",
   "metadata": {
    "pycharm": {
     "name": "#%%\n"
    }
   },
   "outputs": [],
   "source": [
    "c = DTNWSClient(callback=lambda: None)"
   ]
  },
  {
   "cell_type": "code",
   "execution_count": 3,
   "id": "439e9d62-9212-4912-aa89-ccee92b3b3c5",
   "metadata": {
    "pycharm": {
     "name": "#%%\n"
    }
   },
   "outputs": [
    {
     "ename": "TypeError",
     "evalue": "DTNWSClient.send_data() missing 1 required positional argument: 'destination'",
     "output_type": "error",
     "traceback": [
      "\u001b[0;31m---------------------------------------------------------------------------\u001b[0m",
      "\u001b[0;31mTypeError\u001b[0m                                 Traceback (most recent call last)",
      "Input \u001b[0;32mIn [3]\u001b[0m, in \u001b[0;36m<cell line: 1>\u001b[0;34m()\u001b[0m\n\u001b[0;32m----> 1\u001b[0m \u001b[43mc\u001b[49m\u001b[38;5;241;43m.\u001b[39;49m\u001b[43msend_data\u001b[49m\u001b[43m(\u001b[49m\u001b[43mdata\u001b[49m\u001b[38;5;241;43m=\u001b[39;49m\u001b[38;5;124;43m\"\u001b[39;49m\u001b[38;5;124;43mmfweofwoeifmwoeivm\u001b[39;49m\u001b[38;5;124;43m\"\u001b[39;49m\u001b[43m)\u001b[49m\n",
      "\u001b[0;31mTypeError\u001b[0m: DTNWSClient.send_data() missing 1 required positional argument: 'destination'"
     ]
    }
   ],
   "source": [
    "c.send_data(data=\"mfweofwoeifmwoeivm\")"
   ]
  },
  {
   "cell_type": "code",
   "execution_count": null,
   "id": "80a7ca1a-25fd-4f3b-b70f-cb84ee9ac033",
   "metadata": {},
   "outputs": [],
   "source": []
  }
 ],
 "metadata": {
  "kernelspec": {
   "display_name": "Python 3 (ipykernel)",
   "language": "python",
   "name": "python3"
  },
  "language_info": {
   "codemirror_mode": {
    "name": "ipython",
    "version": 3
   },
   "file_extension": ".py",
   "mimetype": "text/x-python",
   "name": "python",
   "nbconvert_exporter": "python",
   "pygments_lexer": "ipython3",
   "version": "3.10.6"
  }
 },
 "nbformat": 4,
 "nbformat_minor": 5
}
