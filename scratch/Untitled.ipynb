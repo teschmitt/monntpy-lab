{
 "cells": [
  {
   "cell_type": "code",
   "execution_count": 1,
   "id": "7c589163-041e-4081-b229-e0818fab6386",
   "metadata": {
    "pycharm": {
     "name": "#%%\n"
    }
   },
   "outputs": [],
   "source": [
    "from backend.dtn7sqlite.backend import DTN7Backend\n",
    "from nntp_server import AsyncNNTPServer"
   ]
  },
  {
   "cell_type": "code",
   "execution_count": 2,
   "id": "fced907e-71f5-4a1d-9ff3-42e20d782d05",
   "metadata": {
    "pycharm": {
     "name": "#%%\n"
    }
   },
   "outputs": [],
   "source": [
    "server = AsyncNNTPServer(hostname=\"localhost\", port=33333)"
   ]
  },
  {
   "cell_type": "code",
   "execution_count": 3,
   "id": "61100e96-ce3e-4e41-8ba7-77e36bcc8424",
   "metadata": {
    "pycharm": {
     "name": "#%%\n"
    }
   },
   "outputs": [
    {
     "ename": "RuntimeError",
     "evalue": "asyncio.run() cannot be called from a running event loop",
     "output_type": "error",
     "traceback": [
      "\u001B[0;31m---------------------------------------------------------------------------\u001B[0m",
      "\u001B[0;31mRuntimeError\u001B[0m                              Traceback (most recent call last)",
      "\u001B[0;32m/tmp/ipykernel_97183/2086035158.py\u001B[0m in \u001B[0;36m<cell line: 1>\u001B[0;34m()\u001B[0m\n\u001B[0;32m----> 1\u001B[0;31m \u001B[0mbackend\u001B[0m \u001B[0;34m=\u001B[0m \u001B[0mDTN7Backend\u001B[0m\u001B[0;34m(\u001B[0m\u001B[0mserver\u001B[0m\u001B[0;34m=\u001B[0m\u001B[0mserver\u001B[0m\u001B[0;34m)\u001B[0m\u001B[0;34m\u001B[0m\u001B[0;34m\u001B[0m\u001B[0m\n\u001B[0m",
      "\u001B[0;32m~/thesis/moNNT.py/backend/dtn7sqlite/backend.py\u001B[0m in \u001B[0;36m__init__\u001B[0;34m(self, server)\u001B[0m\n\u001B[1;32m     67\u001B[0m         \u001B[0mgracefully\u001B[0m \u001B[0;32mif\u001B[0m \u001B[0mit\u001B[0m \u001B[0mcan\u001B[0m\u001B[0;31m'\u001B[0m\u001B[0mt\u001B[0m \u001B[0mbe\u001B[0m \u001B[0mestablished\u001B[0m\u001B[0;34m.\u001B[0m\u001B[0;34m\u001B[0m\u001B[0;34m\u001B[0m\u001B[0m\n\u001B[1;32m     68\u001B[0m         \"\"\"\n\u001B[0;32m---> 69\u001B[0;31m         \u001B[0masyncio\u001B[0m\u001B[0;34m.\u001B[0m\u001B[0mrun\u001B[0m\u001B[0;34m(\u001B[0m\u001B[0mself\u001B[0m\u001B[0;34m.\u001B[0m\u001B[0m_init_db\u001B[0m\u001B[0;34m(\u001B[0m\u001B[0;34m)\u001B[0m\u001B[0;34m)\u001B[0m\u001B[0;34m\u001B[0m\u001B[0;34m\u001B[0m\u001B[0m\n\u001B[0m\u001B[1;32m     70\u001B[0m         self._group_names: list[str] = asyncio.run(\n\u001B[1;32m     71\u001B[0m             \u001B[0mget_all_newsgroups\u001B[0m\u001B[0;34m(\u001B[0m\u001B[0;34m)\u001B[0m\u001B[0;34m\u001B[0m\u001B[0;34m\u001B[0m\u001B[0m\n",
      "\u001B[0;32m/usr/lib/python3.10/asyncio/runners.py\u001B[0m in \u001B[0;36mrun\u001B[0;34m(main, debug)\u001B[0m\n\u001B[1;32m     31\u001B[0m     \"\"\"\n\u001B[1;32m     32\u001B[0m     \u001B[0;32mif\u001B[0m \u001B[0mevents\u001B[0m\u001B[0;34m.\u001B[0m\u001B[0m_get_running_loop\u001B[0m\u001B[0;34m(\u001B[0m\u001B[0;34m)\u001B[0m \u001B[0;32mis\u001B[0m \u001B[0;32mnot\u001B[0m \u001B[0;32mNone\u001B[0m\u001B[0;34m:\u001B[0m\u001B[0;34m\u001B[0m\u001B[0;34m\u001B[0m\u001B[0m\n\u001B[0;32m---> 33\u001B[0;31m         raise RuntimeError(\n\u001B[0m\u001B[1;32m     34\u001B[0m             \"asyncio.run() cannot be called from a running event loop\")\n\u001B[1;32m     35\u001B[0m \u001B[0;34m\u001B[0m\u001B[0m\n",
      "\u001B[0;31mRuntimeError\u001B[0m: asyncio.run() cannot be called from a running event loop"
     ]
    }
   ],
   "source": [
    "backend = DTN7Backend(server=server)"
   ]
  },
  {
   "cell_type": "code",
   "execution_count": null,
   "id": "d17b6da7-bbd5-4819-94ef-39e819b1e304",
   "metadata": {
    "pycharm": {
     "name": "#%%\n"
    }
   },
   "outputs": [],
   "source": [
    "server.backend"
   ]
  },
  {
   "cell_type": "code",
   "execution_count": null,
   "id": "00e5f921-4fab-4693-b564-3665365e79a6",
   "metadata": {
    "pycharm": {
     "name": "#%%\n"
    }
   },
   "outputs": [],
   "source": []
  },
  {
   "cell_type": "code",
   "execution_count": null,
   "id": "c39ff762-7d45-4be5-bcb5-cdc73740d421",
   "metadata": {
    "pycharm": {
     "name": "#%%\n"
    }
   },
   "outputs": [],
   "source": []
  }
 ],
 "metadata": {
  "kernelspec": {
   "display_name": "Python 3 (ipykernel)",
   "language": "python",
   "name": "python3"
  },
  "language_info": {
   "codemirror_mode": {
    "name": "ipython",
    "version": 3
   },
   "file_extension": ".py",
   "mimetype": "text/x-python",
   "name": "python",
   "nbconvert_exporter": "python",
   "pygments_lexer": "ipython3",
   "version": "3.10.5"
  }
 },
 "nbformat": 4,
 "nbformat_minor": 5
}